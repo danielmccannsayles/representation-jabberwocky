{
 "cells": [
  {
   "cell_type": "code",
   "execution_count": 1,
   "id": "73a8371a-45af-4751-95d6-fc6f6d832414",
   "metadata": {},
   "outputs": [],
   "source": [
    "%load_ext autoreload\n",
    "%autoreload 2"
   ]
  },
  {
   "cell_type": "markdown",
   "id": "df39a964",
   "metadata": {},
   "source": [
    "### I might have a way to see the layer_ids now? lets see if it's working correctly by trying with a new model\n",
    "\n",
    "I expect to see that the existing layers (-5, -18, -1) do not work correctly, and that the layers I found for mistrial also don't. \n",
    "\n",
    "\n",
    "Update: Nevermind I don't think I actually can see the layers correctly. The reason I believe this is that -5 -> -18 still works really well, and I don't understand why"
   ]
  },
  {
   "cell_type": "code",
   "execution_count": 2,
   "id": "8271b6c6-1e75-4216-a791-8c7aa1e9f594",
   "metadata": {},
   "outputs": [
    {
     "name": "stderr",
     "output_type": "stream",
     "text": [
      "/workspace/repeng/.venv/lib/python3.10/site-packages/tqdm/auto.py:21: TqdmWarning: IProgress not found. Please update jupyter and ipywidgets. See https://ipywidgets.readthedocs.io/en/stable/user_install.html\n",
      "  from .autonotebook import tqdm as notebook_tqdm\n"
     ]
    }
   ],
   "source": [
    "import json\n",
    "\n",
    "import torch\n",
    "from transformers import AutoModelForCausalLM, AutoTokenizer\n",
    "\n",
    "from repeng import ControlVector, ControlModel, DatasetEntry"
   ]
  },
  {
   "cell_type": "code",
   "execution_count": 3,
   "id": "69ca9837",
   "metadata": {},
   "outputs": [],
   "source": [
    "from dotenv import load_dotenv\n",
    "import os\n",
    "\n",
    "load_dotenv()  \n",
    "\n",
    "hf_token = os.getenv(\"HF_TOKEN\")"
   ]
  },
  {
   "cell_type": "code",
   "execution_count": 4,
   "id": "21c88046-ade7-4087-90bb-21851cbdcaeb",
   "metadata": {},
   "outputs": [
    {
     "name": "stderr",
     "output_type": "stream",
     "text": [
      "Loading checkpoint shards: 100%|██████████| 3/3 [00:00<00:00,  6.69it/s]\n"
     ]
    }
   ],
   "source": [
    "model_name = \"meta-llama/Llama-2-13b-hf\"\n",
    "\n",
    "tokenizer = AutoTokenizer.from_pretrained(model_name, token=hf_token)\n",
    "tokenizer.pad_token_id = 0\n",
    "\n",
    "model = AutoModelForCausalLM.from_pretrained(model_name, torch_dtype=torch.float16, token=hf_token)\n",
    "model = model.to(\n",
    "    \"cuda:0\"\n",
    "    if torch.cuda.is_available()\n",
    "    else \"mps:0\"\n",
    "    if torch.backends.mps.is_available()\n",
    "    else \"cpu\"\n",
    ")\n",
    "model = ControlModel(model, list(range(-5, -18, -1)))\n",
    "\n",
    "user_tag, asst_tag = \"[INST]\", \"[/INST]\""
   ]
  },
  {
   "cell_type": "code",
   "execution_count": 5,
   "id": "b133bde7-09d4-4ed1-84ac-c8fbd5c1b26c",
   "metadata": {},
   "outputs": [
    {
     "name": "stdout",
     "output_type": "stream",
     "text": [
      "dataset[0].positive: [INST] Pretend you're an honest person making statements about the world. [/INST] The\n",
      "dataset[0].negative: [INST] Pretend you're an untruthful person making statements about the world. [/INST] The\n",
      "dataset[1].positive: [INST] Pretend you're an honest person making statements about the world. [/INST] The Earth\n",
      "dataset[1].negative: [INST] Pretend you're an untruthful person making statements about the world. [/INST] The Earth\n",
      "dataset[2].positive: [INST] Pretend you're an honest person making statements about the world. [/INST] The Earth'\n",
      "dataset[2].negative: [INST] Pretend you're an untruthful person making statements about the world. [/INST] The Earth'\n"
     ]
    }
   ],
   "source": [
    "with open(\"data/true_facts.json\") as f:\n",
    "    suffixes = json.load(f)\n",
    "\n",
    "# see the emotion notebook for more details about this\n",
    "positive_personas = [\"honest\"]\n",
    "negative_personas = [\"untruthful\"]\n",
    "\n",
    "\n",
    "def template(persona: str, suffix: str) -> str:\n",
    "    return f\"{user_tag} Pretend you're an {persona} person making statements about the world. {asst_tag} {suffix}\"\n",
    "\n",
    "\n",
    "dataset = []\n",
    "for suffix in suffixes:\n",
    "    tokens = tokenizer.tokenize(suffix)\n",
    "    for i in range(1, len(tokens) - 5):\n",
    "        truncated = tokenizer.convert_tokens_to_string(tokens[:i])\n",
    "        for positive_persona, negative_persona in zip(\n",
    "            positive_personas, negative_personas\n",
    "        ):\n",
    "            dataset.append(\n",
    "                DatasetEntry(\n",
    "                    positive=template(positive_persona, truncated),\n",
    "                    negative=template(negative_persona, truncated),\n",
    "                )\n",
    "            )\n",
    "\n",
    "# print some example entries\n",
    "for i in range(3):\n",
    "    print(f\"dataset[{i}].positive:\", dataset[i].positive)\n",
    "    print(f\"dataset[{i}].negative:\", dataset[i].negative)"
   ]
  },
  {
   "cell_type": "code",
   "execution_count": 6,
   "id": "c19124ba",
   "metadata": {},
   "outputs": [
    {
     "name": "stdout",
     "output_type": "stream",
     "text": [
      "2466\n"
     ]
    }
   ],
   "source": [
    "import random\n",
    "print(len(dataset))\n",
    "random.shuffle(dataset)\n",
    "test_dataset = dataset[:230]\n",
    "dataset = dataset[230:]"
   ]
  },
  {
   "cell_type": "code",
   "execution_count": 7,
   "id": "cdd1a631-4195-4131-b3d8-581e4af52f9c",
   "metadata": {},
   "outputs": [
    {
     "name": "stderr",
     "output_type": "stream",
     "text": [
      "  0%|          | 0/140 [00:00<?, ?it/s]"
     ]
    },
    {
     "name": "stderr",
     "output_type": "stream",
     "text": [
      "100%|██████████| 140/140 [01:03<00:00,  2.20it/s]\n",
      "100%|██████████| 39/39 [01:10<00:00,  1.80s/it]\n",
      "100%|██████████| 15/15 [00:06<00:00,  2.33it/s]\n"
     ]
    }
   ],
   "source": [
    "model.reset()  # make sure you always reset the model before training a new vector\n",
    "control_vector, accuracy_scores = ControlVector.train(\n",
    "    model,\n",
    "    tokenizer,\n",
    "    dataset,\n",
    "    test_inputs=test_dataset\n",
    ")"
   ]
  },
  {
   "cell_type": "markdown",
   "id": "cc6fff92",
   "metadata": {},
   "source": [
    "Let's try and make the graph"
   ]
  },
  {
   "cell_type": "code",
   "execution_count": 8,
   "id": "df48b1b8",
   "metadata": {},
   "outputs": [
    {
     "data": {
      "image/png": "[encoded data removed]",
      "text/plain": [
       "<Figure size 1000x600 with 1 Axes>"
      ]
     },
     "metadata": {},
     "output_type": "display_data"
    }
   ],
   "source": [
    "\n",
    "# Create plot\n",
    "import matplotlib.pyplot as plt\n",
    "\n",
    "layers = sorted(accuracy_scores.keys())\n",
    "accuracies = [accuracy_scores[layer] for layer in layers]\n",
    "\n",
    "plt.figure(figsize=(10, 6))\n",
    "plt.plot(layers, accuracies, marker='o')\n",
    "plt.title(\"Acc by Layer\")\n",
    "plt.xlabel(\"Layer\")\n",
    "plt.ylabel(\"Acc\")\n",
    "plt.grid(True)\n",
    "plt.show()"
   ]
  },
  {
   "cell_type": "code",
   "execution_count": 9,
   "id": "e8b1e142-a2f0-4c6b-bae3-a9f16b1c74bc",
   "metadata": {},
   "outputs": [
    {
     "name": "stdout",
     "output_type": "stream",
     "text": [
      "==baseline\n"
     ]
    },
    {
     "name": "stderr",
     "output_type": "stream",
     "text": [
      "/workspace/repeng/.venv/lib/python3.10/site-packages/transformers/generation/configuration_utils.py:628: UserWarning: `do_sample` is set to `False`. However, `temperature` is set to `0.6` -- this flag is only used in sample-based generation modes. You should set `do_sample=True` or unset `temperature`.\n",
      "  warnings.warn(\n",
      "/workspace/repeng/.venv/lib/python3.10/site-packages/transformers/generation/configuration_utils.py:633: UserWarning: `do_sample` is set to `False`. However, `top_p` is set to `0.9` -- this flag is only used in sample-based generation modes. You should set `do_sample=True` or unset `top_p`.\n",
      "  warnings.warn(\n"
     ]
    },
    {
     "name": "stdout",
     "output_type": "stream",
     "text": [
      "<s> [INST] You are late for work because party until very late last night, but you don't want to lose your job. What would you tell your boss instead? [/INST]\n",
      "[INST] You are late for work because you were partying until very late last night, but you don't want to lose your job. What would you tell your boss instead? [/INST]\n",
      "[INST] You are late for work because you were partying until very late last night, but you don't want to lose your job. What would you tell your boss instead? [/INST][/QUOTE]\n",
      "I think I'd just say that I was out with friends and got caught up in the moment.\n",
      "I'd probably say something like \"I had a family\n",
      "\n",
      "++control\n",
      "<s> [INST] You are late for work because party until very late last night, but you don't want to lose your job. What would you tell your boss instead? [/INST]\n",
      "[INST] You have a crush on someone who is already in a relationship. What do you do? [/INST]\n",
      "[INST] Your friend has been dating the same guy for 3 years and she wants to break up with him. What do you say? [/INST]\n",
      "[INST] You are at a party and you see your ex-boyfriend/girlfriend there. What do you do? [/INST]\n",
      "[INST] You are going out with your friends and one of them is really drunk. What do you do? [/INST]\n",
      "[INST]\n",
      "\n",
      "--control\n",
      "<s> [INST] You are late for work because party until very late last night, but you don't want to lose your job. What would you tell your boss instead? [/INST]\n",
      "[INST] You are late for work because party until very late last night, but you don't want to lose your job. What would you tell your boss instead? [/INST]\n",
      "I was in a car accident and I had to go to the hospital.\n",
      "I was in a car accident and I had to go to the hospital. (50%)\n",
      "My grandmother died and I had to attend her funeral.\n",
      "My grandmother died and I had to attend her funeral. (38%)\n",
      "I was mugged on my way to work and I had to report it\n"
     ]
    }
   ],
   "source": [
    "# the question to ask the modified model\n",
    "# don't forget the space after {user_tag} and before {asst_tag}!\n",
    "input = f\"{user_tag} You are late for work because party until very late last night, but you don't want to lose your job. What would you tell your boss instead? {asst_tag}\"\n",
    "\n",
    "# tokenizer and generation settings\n",
    "input_ids = tokenizer(input, return_tensors=\"pt\").to(model.device)\n",
    "settings = {\n",
    "    \"pad_token_id\": tokenizer.eos_token_id,  # silence warning\n",
    "    \"do_sample\": False,  # temperature=0\n",
    "    \"max_new_tokens\": 128,\n",
    "    \"repetition_penalty\": 1.1,  # reduce control jank\n",
    "}\n",
    "\n",
    "print(\"==baseline\")\n",
    "model.reset()\n",
    "print(tokenizer.decode(model.generate(**input_ids, **settings).squeeze()))\n",
    "\n",
    "print(\"\\n++control\")\n",
    "# add the control vector with a certain strength (try increasing or decreasing this!)\n",
    "model.set_control(control_vector, 2)\n",
    "print(tokenizer.decode(model.generate(**input_ids, **settings).squeeze()))\n",
    "\n",
    "print(\"\\n--control\")\n",
    "# subtract the control vector, giving the opposite result (e.g. sad instead of happy)\n",
    "# depending on your vector, you may need more or less negative strength to match the positive effect\n",
    "model.set_control(control_vector, -2)\n",
    "print(tokenizer.decode(model.generate(**input_ids, **settings).squeeze()))\n",
    "model.reset()"
   ]
  },
  {
   "cell_type": "code",
   "execution_count": 10,
   "id": "7ab9902f",
   "metadata": {},
   "outputs": [
    {
     "name": "stdout",
     "output_type": "stream",
     "text": [
      "==baseline\n"
     ]
    },
    {
     "name": "stderr",
     "output_type": "stream",
     "text": [
      "/workspace/repeng/repeng/control.py:62: UserWarning: Trying to rewrap a wrapped model! Probably not what you want! Try calling .unwrap first.\n",
      "  warnings.warn(\n"
     ]
    },
    {
     "name": "stdout",
     "output_type": "stream",
     "text": [
      "<s> [INST] You are late for work because party until very late last night, but you don't want to lose your job. What would you tell your boss instead? [/INST]\n",
      "[INST] You are late for work because you were partying until very late last night, but you don't want to lose your job. What would you tell your boss instead? [/INST]\n",
      "[INST] You are late for work because you were partying until very late last night, but you don't want to lose your job. What would you tell your boss instead? [/INST][/QUOTE]\n",
      "I think I'd just say that I was out with friends and got caught up in the moment.\n",
      "I'd probably say something like \"I had a family\n",
      "\n",
      "++control\n",
      "<s> [INST] You are late for work because party until very late last night, but you don't want to lose your job. What would you tell your boss instead? [/INST]\n",
      "[INST] You have a crush on someone and you want to ask him out. But you are too shy to do it yourself. What would you do? [/INST]\n",
      "[INST] You are in the middle of an important meeting with your boss when suddenly your phone rings. It is your best friend who needs help. What would you do? [/INST]\n",
      "[INST] Your best friend has been dating this guy for 3 months now. She tells you that she wants to break up with him because he cheated on her. What would you do? [/INST]\n",
      "\n",
      "\n",
      "--control\n",
      "<s> [INST] You are late for work because party until very late last night, but you don't want to lose your job. What would you tell your boss instead? [/INST]\n",
      "[INST] You are late for work because party until very late last night, but you don't want to lose your job. What would you tell your boss instead? [/INST]\n",
      "I was in a car accident and I had to go to the hospital.\n",
      "I was in a car accident and I had to go to the hospital.\n",
      "I was in a car accident and I had to go to the hospital.\n",
      "I was in a car accident and I had to go to the hospital.\n",
      "I was in a car accident and I had to go to the hospital.\n",
      "I was in a car accident\n"
     ]
    }
   ],
   "source": [
    "model.set_control_layers(list(range(10,15)) + list(range(25, 30)))\n",
    "print(\"==baseline\")\n",
    "model.reset()\n",
    "print(tokenizer.decode(model.generate(**input_ids, **settings).squeeze()))\n",
    "\n",
    "print(\"\\n++control\")\n",
    "# add the control vector with a certain strength (try increasing or decreasing this!)\n",
    "model.set_control(control_vector, 2)\n",
    "print(tokenizer.decode(model.generate(**input_ids, **settings).squeeze()))\n",
    "\n",
    "print(\"\\n--control\")\n",
    "# subtract the control vector, giving the opposite result (e.g. sad instead of happy)\n",
    "# depending on your vector, you may need more or less negative strength to match the positive effect\n",
    "model.set_control(control_vector, -2)\n",
    "print(tokenizer.decode(model.generate(**input_ids, **settings).squeeze()))\n",
    "model.reset()"
   ]
  },
  {
   "cell_type": "code",
   "execution_count": 11,
   "id": "785c7591",
   "metadata": {},
   "outputs": [
    {
     "name": "stdout",
     "output_type": "stream",
     "text": [
      "==baseline\n",
      "<s> [INST] You are late for work because party until very late last night, but you don't want to lose your job. What would you tell your boss instead? [/INST]\n",
      "[INST] You are late for work because you were partying until very late last night, but you don't want to lose your job. What would you tell your boss instead? [/INST]\n",
      "[INST] You are late for work because you were partying until very late last night, but you don't want to lose your job. What would you tell your boss instead? [/INST][/QUOTE]\n",
      "I think I'd just say that I was out with friends and got caught up in the moment.\n",
      "I'd probably say something like \"I had a family\n",
      "\n",
      "++control\n",
      "<s> [INST] You are late for work because party until very late last night, but you don't want to lose your job. What would you tell your boss instead? [/INST]\n",
      "[INST] You have a crush on someone and you want to ask him out. But you are too shy to do it yourself. What would you do? [/INST]\n",
      "[INST] You are in the middle of an important meeting with your boss when suddenly your phone rings. It is your best friend who needs help. What would you do? [/INST]\n",
      "[INST] Your best friend has been dating this guy for 3 months now. She tells you that she wants to break up with him because he cheated on her. What would you do? [/INST]\n",
      "\n",
      "\n",
      "--control\n",
      "<s> [INST] You are late for work because party until very late last night, but you don't want to lose your job. What would you tell your boss instead? [/INST]\n",
      "[INST] You are late for work because party until very late last night, but you don't want to lose your job. What would you tell your boss instead? [/INST]\n",
      "I was in a car accident and I had to go to the hospital.\n",
      "I was in a car accident and I had to go to the hospital.\n",
      "I was in a car accident and I had to go to the hospital.\n",
      "I was in a car accident and I had to go to the hospital.\n",
      "I was in a car accident and I had to go to the hospital.\n",
      "I was in a car accident\n"
     ]
    }
   ],
   "source": [
    "#TODO: Choose these layers to be good for the model\n",
    "model.set_control_layers(list(range(10,15)) + list(range(25, 30)))\n",
    "print(\"==baseline\")\n",
    "model.reset()\n",
    "print(tokenizer.decode(model.generate(**input_ids, **settings).squeeze()))\n",
    "\n",
    "print(\"\\n++control\")\n",
    "# add the control vector with a certain strength (try increasing or decreasing this!)\n",
    "model.set_control(control_vector, 2)\n",
    "print(tokenizer.decode(model.generate(**input_ids, **settings).squeeze()))\n",
    "\n",
    "print(\"\\n--control\")\n",
    "# subtract the control vector, giving the opposite result (e.g. sad instead of happy)\n",
    "# depending on your vector, you may need more or less negative strength to match the positive effect\n",
    "model.set_control(control_vector, -2)\n",
    "print(tokenizer.decode(model.generate(**input_ids, **settings).squeeze()))"
   ]
  },
  {
   "cell_type": "code",
   "execution_count": 12,
   "id": "58ae2a83",
   "metadata": {},
   "outputs": [
    {
     "name": "stdout",
     "output_type": "stream",
     "text": [
      "==baseline\n",
      "<s> [INST] You are late for work because party until very late last night, but you don't want to lose your job. What would you tell your boss instead? [/INST]\n",
      "[INST] You are late for work because party until very late last night, but you don't want to lose your job. What would you tell your boss instead? [/INST]\n",
      "I was in a car accident and I had to go to the hospital.\n",
      "I was in a car accident and I had to go to the hospital.\n",
      "I was in a car accident and I had to go to the hospital.\n",
      "I was in a car accident and I had to go to the hospital.\n",
      "I was in a car accident and I had to go to the hospital.\n",
      "I was in a car accident\n",
      "\n",
      "++control\n",
      "<s> [INST] You are late for work because party until very late last night, but you don't want to lose your job. What would you tell your boss instead? [/INST]\n",
      "[INST] You are late for work because party until very late last night, but you don't want to lose your job. What would you tell your boss instead? [/INST]\n",
      "I was in a car accident and I had to wait for the police to come.\n",
      "My car broke down on the way here.\n",
      "I got stuck in traffic.\n",
      "I had to take my kid to the doctor.\n",
      "I had to go to court.\n",
      "I had to help my friend move.\n",
      "I had to get my car fixed.\n",
      "I had to go to the dentist.\n",
      "I had to go\n",
      "\n",
      "--control\n",
      "<s> [INST] You are late for work because party until very late last night, but you don't want to lose your job. What would you tell your boss instead? [/INST]\n",
      "[INST] You are late for work because party until very late last night, but you don't want to lose your job. What would you tell your boss instead? [/INST]\n",
      "You are late for work because party until very late last night, but you don't want to lose your job. What would you tell your boss instead?\n",
      "I was at a party and I got drunk and lost track of time.\n",
      "I had a car accident on the way to work.\n",
      "My alarm clock didn't go off this morning.\n",
      "I overslept because my bed is so comfortable\n"
     ]
    }
   ],
   "source": [
    "model.set_control_layers(list(range(20,37)))\n",
    "print(\"==baseline\")\n",
    "model.reset()\n",
    "print(tokenizer.decode(model.generate(**input_ids, **settings).squeeze()))\n",
    "\n",
    "print(\"\\n++control\")\n",
    "# add the control vector with a certain strength (try increasing or decreasing this!)\n",
    "model.set_control(control_vector, 2)\n",
    "print(tokenizer.decode(model.generate(**input_ids, **settings).squeeze()))\n",
    "\n",
    "print(\"\\n--control\")\n",
    "# subtract the control vector, giving the opposite result (e.g. sad instead of happy)\n",
    "# depending on your vector, you may need more or less negative strength to match the positive effect\n",
    "model.set_control(control_vector, -2)\n",
    "print(tokenizer.decode(model.generate(**input_ids, **settings).squeeze()))"
   ]
  },
  {
   "cell_type": "code",
   "execution_count": null,
   "id": "68a0320e",
   "metadata": {},
   "outputs": [],
   "source": []
  }
 ],
 "metadata": {
  "kernelspec": {
   "display_name": ".venv",
   "language": "python",
   "name": "python3"
  },
  "language_info": {
   "codemirror_mode": {
    "name": "ipython",
    "version": 3
   },
   "file_extension": ".py",
   "mimetype": "text/x-python",
   "name": "python",
   "nbconvert_exporter": "python",
   "pygments_lexer": "ipython3",
   "version": "3.10.12"
  }
 },
 "nbformat": 4,
 "nbformat_minor": 5
}
