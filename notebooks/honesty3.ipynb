{
 "cells": [
  {
   "cell_type": "code",
   "execution_count": 1,
   "id": "a296d480",
   "metadata": {},
   "outputs": [],
   "source": [
    "%load_ext autoreload\n",
    "%autoreload 2"
   ]
  },
  {
   "cell_type": "markdown",
   "id": "9725fbfb",
   "metadata": {},
   "source": [
    "The goal of this notebook is to use the re-created code from the old Repo to get the same graph.\n",
    "\n",
    "It'll be taking the original implementations and tweaking them to get it working"
   ]
  },
  {
   "cell_type": "code",
   "execution_count": 2,
   "id": "95f24a16",
   "metadata": {},
   "outputs": [
    {
     "name": "stderr",
     "output_type": "stream",
     "text": [
      "/workspace/repeng/.venv/lib/python3.10/site-packages/tqdm/auto.py:21: TqdmWarning: IProgress not found. Please update jupyter and ipywidgets. See https://ipywidgets.readthedocs.io/en/stable/user_install.html\n",
      "  from .autonotebook import tqdm as notebook_tqdm\n"
     ]
    }
   ],
   "source": [
    "import json\n",
    "import torch\n",
    "from tqdm import tqdm\n",
    "import numpy as np\n",
    "from transformers import AutoModelForCausalLM, AutoTokenizer\n",
    "\n",
    "import matplotlib.pyplot as plt\n",
    "\n",
    "from repeng import DatasetEntry\n",
    "from repeng.reading_pipeline import RepReading\n"
   ]
  },
  {
   "cell_type": "code",
   "execution_count": 3,
   "id": "66605be9",
   "metadata": {},
   "outputs": [
    {
     "data": {
      "text/plain": [
       "device(type='cuda')"
      ]
     },
     "execution_count": 3,
     "metadata": {},
     "output_type": "execute_result"
    }
   ],
   "source": [
    "device = torch.device(\"cuda\" if torch.cuda.is_available()else \"mps\" if torch.backends.mps.is_available() else \"cpu\")\n",
    "device"
   ]
  },
  {
   "cell_type": "code",
   "execution_count": 4,
   "id": "32336c30",
   "metadata": {},
   "outputs": [
    {
     "name": "stderr",
     "output_type": "stream",
     "text": [
      "Loading checkpoint shards: 100%|██████████| 2/2 [00:03<00:00,  1.72s/it]\n"
     ]
    }
   ],
   "source": [
    "model_name = \"mistralai/Mistral-7B-Instruct-v0.1\"\n",
    "\n",
    "model = AutoModelForCausalLM.from_pretrained(model_name, torch_dtype=torch.float16).to(device)\n",
    "tokenizer = AutoTokenizer.from_pretrained(model_name, padding_side=\"left\", legacy=False) # Wonder what padding left does\n",
    "tokenizer.pad_token_id = 0 "
   ]
  },
  {
   "cell_type": "code",
   "execution_count": 5,
   "id": "1a7af615",
   "metadata": {},
   "outputs": [],
   "source": [
    "rep_token = -1\n",
    "hidden_layers = list(range(-1, -model.config.num_hidden_layers, -1))\n",
    "n_difference = 1\n",
    "\n",
    "# TODO: replicate this pipeline implementation\n",
    "# rep_reading_pipeline =  pipeline(\"rep-reading\", model=model, tokenizer=tokenizer)"
   ]
  },
  {
   "cell_type": "code",
   "execution_count": 6,
   "id": "2f4c6a47",
   "metadata": {},
   "outputs": [
    {
     "name": "stdout",
     "output_type": "stream",
     "text": [
      "DatasetEntry(positive=\"[INST] Pretend you're an honest person making statements about the world. [/INST] The Earth\", negative=\"[INST] Pretend you're an untruthful person making statements about the world. [/INST] The Earth\")\n",
      "dataset[0].positive: [INST] Pretend you're an honest person making statements about the world. [/INST] The\n",
      "dataset[0].negative: [INST] Pretend you're an untruthful person making statements about the world. [/INST] The\n",
      "dataset[1].positive: [INST] Pretend you're an honest person making statements about the world. [/INST] The Earth\n",
      "dataset[1].negative: [INST] Pretend you're an untruthful person making statements about the world. [/INST] The Earth\n",
      "dataset[2].positive: [INST] Pretend you're an honest person making statements about the world. [/INST] The Earth'\n",
      "dataset[2].negative: [INST] Pretend you're an untruthful person making statements about the world. [/INST] The Earth'\n",
      "2342\n"
     ]
    }
   ],
   "source": [
    "# Directly taken from new code - not using old dataset at all. Consider trying out old dataset if this is a problem\n",
    "user_tag, asst_tag = \"[INST]\", \"[/INST]\"\n",
    "with open(\"data/true_facts.json\") as f:\n",
    "    suffixes = json.load(f)\n",
    "\n",
    "# see the emotion notebook for more details about this\n",
    "positive_personas = [\"honest\"]\n",
    "negative_personas = [\"untruthful\"]\n",
    "\n",
    "\n",
    "def template(persona: str, suffix: str) -> str:\n",
    "    return f\"{user_tag} Pretend you're an {persona} person making statements about the world. {asst_tag} {suffix}\"\n",
    "\n",
    "\n",
    "dataset: list[DatasetEntry] = []\n",
    "for suffix in suffixes:\n",
    "    tokens = tokenizer.tokenize(suffix)\n",
    "    for i in range(1, len(tokens) - 5):\n",
    "        truncated = tokenizer.convert_tokens_to_string(tokens[:i])\n",
    "        for positive_persona, negative_persona in zip(\n",
    "            positive_personas, negative_personas\n",
    "        ):\n",
    "            dataset.append(\n",
    "                DatasetEntry(\n",
    "                    positive=template(positive_persona, truncated),\n",
    "                    negative=template(negative_persona, truncated),\n",
    "                )\n",
    "            )\n",
    "\n",
    "# print some example entries\n",
    "print(dataset[1])\n",
    "for i in range(3):\n",
    "    print(f\"dataset[{i}].positive:\", dataset[i].positive)\n",
    "    print(f\"dataset[{i}].negative:\", dataset[i].negative)\n",
    "\n",
    "print(len(dataset))"
   ]
  },
  {
   "cell_type": "code",
   "execution_count": 7,
   "id": "57516a19",
   "metadata": {},
   "outputs": [],
   "source": [
    "import random\n",
    "# Let's turn the dataset into train & test\n",
    "random.shuffle(dataset)\n",
    "test = dataset[:230]\n",
    "train = dataset[230:]"
   ]
  },
  {
   "cell_type": "code",
   "execution_count": 8,
   "id": "b26772d3",
   "metadata": {},
   "outputs": [
    {
     "name": "stderr",
     "output_type": "stream",
     "text": [
      "  0%|          | 0/132 [00:00<?, ?it/s]"
     ]
    },
    {
     "name": "stderr",
     "output_type": "stream",
     "text": [
      "100%|██████████| 132/132 [00:50<00:00,  2.60it/s]\n"
     ]
    }
   ],
   "source": [
    "# First we get directions\n",
    "# honesty_rep_reader = rep_reading_pipeline.get_directions(\n",
    "#     dataset['train']['data'], \n",
    "#     rep_token=rep_token, \n",
    "#     hidden_layers=hidden_layers, \n",
    "#     n_difference=n_difference, \n",
    "#     train_labels=dataset['train']['labels'], \n",
    "#     direction_method=direction_method,\n",
    "#     batch_size=32,\n",
    "# )\n",
    "pipeline = RepReading(model, tokenizer)\n",
    "rep_reader = pipeline.get_directions(train, hidden_layers, n_difference, batch_size=32)\n"
   ]
  },
  {
   "cell_type": "code",
   "execution_count": 9,
   "id": "ad13a010",
   "metadata": {},
   "outputs": [
    {
     "name": "stderr",
     "output_type": "stream",
     "text": [
      "  0%|          | 0/15 [00:00<?, ?it/s]"
     ]
    },
    {
     "name": "stderr",
     "output_type": "stream",
     "text": [
      "100%|██████████| 15/15 [00:07<00:00,  2.00it/s]\n"
     ]
    }
   ],
   "source": [
    "# Next they call the forward method on the test set of data\n",
    "# H_tests = rep_reading_pipeline(\n",
    "#     dataset['test']['data'], \n",
    "#     rep_token=rep_token, \n",
    "#     hidden_layers=hidden_layers, \n",
    "#     rep_reader=honesty_rep_reader,\n",
    "#     batch_size=32)\n",
    "H_tests = pipeline.forward(test, hidden_layers, batch_size=32, rep_reader=rep_reader)"
   ]
  },
  {
   "cell_type": "code",
   "execution_count": 14,
   "id": "efb05f01",
   "metadata": {},
   "outputs": [
    {
     "data": {
      "text/plain": [
       "230"
      ]
     },
     "execution_count": 14,
     "metadata": {},
     "output_type": "execute_result"
    }
   ],
   "source": [
    "len(test)"
   ]
  },
  {
   "cell_type": "code",
   "execution_count": 10,
   "id": "e55b0e16",
   "metadata": {},
   "outputs": [
    {
     "name": "stdout",
     "output_type": "stream",
     "text": [
      "dict_keys([-1, -2, -3, -4, -5, -6, -7, -8, -9, -10, -11, -12, -13, -14, -15, -16, -17, -18, -19, -20, -21, -22, -23, -24, -25, -26, -27, -28, -29, -30, -31])\n",
      "460\n"
     ]
    }
   ],
   "source": [
    "print(H_tests.keys())\n",
    "print(len(list(H_tests.values())[0]))\n",
    "# H_tests is just a dict w/ the layer key -> \n",
    "\n",
    "# Interesting.. the old h_tests is a list of multiple `H_test``\n",
    "# While the new one is just one. Probably should fix this"
   ]
  },
  {
   "cell_type": "code",
   "execution_count": 11,
   "id": "c53681cd",
   "metadata": {},
   "outputs": [
    {
     "name": "stdout",
     "output_type": "stream",
     "text": [
      "-16.4934\n"
     ]
    }
   ],
   "source": [
    "print(list(H_tests.values())[0][1])"
   ]
  },
  {
   "cell_type": "code",
   "execution_count": 12,
   "id": "397a9d82",
   "metadata": {},
   "outputs": [],
   "source": [
    "# results = {layer: {} for layer in hidden_layers}\n",
    "# rep_readers_means = {}\n",
    "# rep_readers_means['honesty'] = {layer: 0 for layer in hidden_layers}\n",
    "\n",
    "# Layer 0\n",
    "# H_test = H_tests[-1]\n",
    "# H_test = [H_test[i:i+2] for i in range(0, len(H_test), 2)]\n",
    "\n",
    "# print([ H[0] for H in H_test])\n",
    "\n",
    "# cors = np.mean([eval_func(lh) == lh[0] for lh in layer_test])\n",
    "\n",
    "# print(c)\n",
    "\n",
    "# results[layer] = cors\n",
    "\n",
    "# plt.plot(hidden_layers, [results[layer] for layer in hidden_layers])\n",
    "# plt.show()"
   ]
  },
  {
   "cell_type": "code",
   "execution_count": 13,
   "id": "61e88765",
   "metadata": {},
   "outputs": [
    {
     "data": {
      "image/png": "[encoded data removed]",
      "text/plain": [
       "<Figure size 640x480 with 1 Axes>"
      ]
     },
     "metadata": {},
     "output_type": "display_data"
    }
   ],
   "source": [
    "results = {layer: {} for layer in hidden_layers}\n",
    "rep_readers_means = {}\n",
    "rep_readers_means['honesty'] = {layer: 0 for layer in hidden_layers}\n",
    "\n",
    "for layer in hidden_layers:\n",
    "    H_test = H_tests[layer]\n",
    "    rep_readers_means['honesty'][layer] = np.mean(H_test)\n",
    "    H_test = [H_test[i:i+2] for i in range(0, len(H_test), 2)]\n",
    "    \n",
    "    sign = rep_reader.direction_signs[layer]\n",
    "\n",
    "    eval_func = min if sign == -1 else max\n",
    "    # cors = np.mean([eval_func(H) == H[0] for H in H_test])\n",
    "    cors = np.mean([eval_func(H) == H[0] for H in H_test])\n",
    "    \n",
    "    results[layer] = cors\n",
    "\n",
    "plt.plot(hidden_layers, [results[layer] for layer in hidden_layers])\n",
    "plt.show()"
   ]
  },
  {
   "cell_type": "code",
   "execution_count": null,
   "id": "995e6370",
   "metadata": {},
   "outputs": [],
   "source": []
  }
 ],
 "metadata": {
  "kernelspec": {
   "display_name": ".venv",
   "language": "python",
   "name": "python3"
  },
  "language_info": {
   "codemirror_mode": {
    "name": "ipython",
    "version": 3
   },
   "file_extension": ".py",
   "mimetype": "text/x-python",
   "name": "python",
   "nbconvert_exporter": "python",
   "pygments_lexer": "ipython3",
   "version": "3.10.12"
  }
 },
 "nbformat": 4,
 "nbformat_minor": 5
}
