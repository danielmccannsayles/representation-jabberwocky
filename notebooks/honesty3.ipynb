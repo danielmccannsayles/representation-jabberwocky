{
 "cells": [
  {
   "cell_type": "code",
   "execution_count": 1,
   "id": "a296d480",
   "metadata": {},
   "outputs": [],
   "source": [
    "%load_ext autoreload\n",
    "%autoreload 2"
   ]
  },
  {
   "cell_type": "markdown",
   "id": "9725fbfb",
   "metadata": {},
   "source": [
    "The goal of this notebook is to use the re-created code from the old Repo to get the same graph.\n",
    "\n",
    "It'll be taking the original implementations and tweaking them to get it working"
   ]
  },
  {
   "cell_type": "code",
   "execution_count": 2,
   "id": "95f24a16",
   "metadata": {},
   "outputs": [
    {
     "name": "stderr",
     "output_type": "stream",
     "text": [
      "/workspace/repeng/.venv/lib/python3.10/site-packages/tqdm/auto.py:21: TqdmWarning: IProgress not found. Please update jupyter and ipywidgets. See https://ipywidgets.readthedocs.io/en/stable/user_install.html\n",
      "  from .autonotebook import tqdm as notebook_tqdm\n"
     ]
    }
   ],
   "source": [
    "import json\n",
    "import torch\n",
    "from tqdm import tqdm\n",
    "import numpy as np\n",
    "from transformers import AutoModelForCausalLM, AutoTokenizer\n",
    "\n",
    "import matplotlib.pyplot as plt\n",
    "\n",
    "from repeng import DatasetEntry\n",
    "from repeng.reading_pipeline import RepReading\n"
   ]
  },
  {
   "cell_type": "code",
   "execution_count": 3,
   "id": "66605be9",
   "metadata": {},
   "outputs": [
    {
     "data": {
      "text/plain": [
       "device(type='cuda')"
      ]
     },
     "execution_count": 3,
     "metadata": {},
     "output_type": "execute_result"
    }
   ],
   "source": [
    "device = torch.device(\"cuda\" if torch.cuda.is_available()else \"mps\" if torch.backends.mps.is_available() else \"cpu\")\n",
    "device"
   ]
  },
  {
   "cell_type": "code",
   "execution_count": 4,
   "id": "32336c30",
   "metadata": {},
   "outputs": [
    {
     "name": "stderr",
     "output_type": "stream",
     "text": [
      "Loading checkpoint shards: 100%|██████████| 2/2 [00:02<00:00,  1.41s/it]\n"
     ]
    }
   ],
   "source": [
    "model_name = \"mistralai/Mistral-7B-Instruct-v0.1\"\n",
    "\n",
    "model = AutoModelForCausalLM.from_pretrained(model_name, torch_dtype=torch.float16).to(device)\n",
    "tokenizer = AutoTokenizer.from_pretrained(model_name, padding_side=\"left\", legacy=False) # Wonder what padding left does\n",
    "tokenizer.pad_token_id = 0 "
   ]
  },
  {
   "cell_type": "code",
   "execution_count": 5,
   "id": "1a7af615",
   "metadata": {},
   "outputs": [],
   "source": [
    "rep_token = -1\n",
    "hidden_layers = list(range(-1, -model.config.num_hidden_layers, -1))\n",
    "n_difference = 1\n",
    "\n",
    "# TODO: replicate this pipeline implementation\n",
    "# rep_reading_pipeline =  pipeline(\"rep-reading\", model=model, tokenizer=tokenizer)"
   ]
  },
  {
   "cell_type": "code",
   "execution_count": 6,
   "id": "2f4c6a47",
   "metadata": {},
   "outputs": [
    {
     "name": "stdout",
     "output_type": "stream",
     "text": [
      "DatasetEntry(positive=\"[INST] Pretend you're an honest person making statements about the world. [/INST] The Earth\", negative=\"[INST] Pretend you're an untruthful person making statements about the world. [/INST] The Earth\")\n",
      "dataset[0].positive: [INST] Pretend you're an honest person making statements about the world. [/INST] The\n",
      "dataset[0].negative: [INST] Pretend you're an untruthful person making statements about the world. [/INST] The\n",
      "dataset[1].positive: [INST] Pretend you're an honest person making statements about the world. [/INST] The Earth\n",
      "dataset[1].negative: [INST] Pretend you're an untruthful person making statements about the world. [/INST] The Earth\n",
      "dataset[2].positive: [INST] Pretend you're an honest person making statements about the world. [/INST] The Earth'\n",
      "dataset[2].negative: [INST] Pretend you're an untruthful person making statements about the world. [/INST] The Earth'\n",
      "2342\n"
     ]
    }
   ],
   "source": [
    "# Directly taken from new code - not using old dataset at all. Consider trying out old dataset if this is a problem\n",
    "user_tag, asst_tag = \"[INST]\", \"[/INST]\"\n",
    "with open(\"data/true_facts.json\") as f:\n",
    "    suffixes = json.load(f)\n",
    "\n",
    "# see the emotion notebook for more details about this\n",
    "positive_personas = [\"honest\"]\n",
    "negative_personas = [\"untruthful\"]\n",
    "\n",
    "\n",
    "def template(persona: str, suffix: str) -> str:\n",
    "    return f\"{user_tag} Pretend you're an {persona} person making statements about the world. {asst_tag} {suffix}\"\n",
    "\n",
    "\n",
    "dataset: list[DatasetEntry] = []\n",
    "for suffix in suffixes:\n",
    "    tokens = tokenizer.tokenize(suffix)\n",
    "    for i in range(1, len(tokens) - 5):\n",
    "        truncated = tokenizer.convert_tokens_to_string(tokens[:i])\n",
    "        for positive_persona, negative_persona in zip(\n",
    "            positive_personas, negative_personas\n",
    "        ):\n",
    "            dataset.append(\n",
    "                DatasetEntry(\n",
    "                    positive=template(positive_persona, truncated),\n",
    "                    negative=template(negative_persona, truncated),\n",
    "                )\n",
    "            )\n",
    "\n",
    "# print some example entries\n",
    "print(dataset[1])\n",
    "for i in range(3):\n",
    "    print(f\"dataset[{i}].positive:\", dataset[i].positive)\n",
    "    print(f\"dataset[{i}].negative:\", dataset[i].negative)\n",
    "\n",
    "print(len(dataset))"
   ]
  },
  {
   "cell_type": "code",
   "execution_count": 7,
   "id": "57516a19",
   "metadata": {},
   "outputs": [],
   "source": [
    "import random\n",
    "# Let's turn the dataset into train & test\n",
    "random.shuffle(dataset)\n",
    "test = dataset[:230]\n",
    "train = dataset[230:]"
   ]
  },
  {
   "cell_type": "code",
   "execution_count": 8,
   "id": "b26772d3",
   "metadata": {},
   "outputs": [
    {
     "name": "stderr",
     "output_type": "stream",
     "text": [
      "100%|██████████| 132/132 [00:35<00:00,  3.69it/s]\n"
     ]
    }
   ],
   "source": [
    "# First we get directions\n",
    "# honesty_rep_reader = rep_reading_pipeline.get_directions(\n",
    "#     dataset['train']['data'], \n",
    "#     rep_token=rep_token, \n",
    "#     hidden_layers=hidden_layers, \n",
    "#     n_difference=n_difference, \n",
    "#     train_labels=dataset['train']['labels'], \n",
    "#     direction_method=direction_method,\n",
    "#     batch_size=32,\n",
    "# )\n",
    "pipeline = RepReading(model, tokenizer)\n",
    "rep_reader = pipeline.get_directions(train, hidden_layers, n_difference, batch_size=32)\n"
   ]
  },
  {
   "cell_type": "code",
   "execution_count": 9,
   "id": "ad13a010",
   "metadata": {},
   "outputs": [],
   "source": [
    "# Next they call the forward method on the test set of data\n",
    "# H_tests = rep_reading_pipeline(\n",
    "#     dataset['test']['data'], \n",
    "#     rep_token=rep_token, \n",
    "#     hidden_layers=hidden_layers, \n",
    "#     rep_reader=honesty_rep_reader,\n",
    "#     batch_size=32)\n",
    "H_tests = pipeline.forward(test, hidden_layers, rep_reader)"
   ]
  },
  {
   "cell_type": "code",
   "execution_count": null,
   "id": "e55b0e16",
   "metadata": {},
   "outputs": [
    {
     "name": "stdout",
     "output_type": "stream",
     "text": [
      "dict_keys([-1, -2, -3, -4, -5, -6, -7, -8, -9, -10, -11, -12, -13, -14, -15, -16, -17, -18, -19, -20, -21, -22, -23, -24, -25, -26, -27, -28, -29, -30, -31])\n",
      "460\n"
     ]
    }
   ],
   "source": [
    "print(H_tests.keys())\n",
    "print(len(list(H_tests.values())[0]))\n",
    "# H_tests is just a dict w/ the layer key -> \n",
    "\n",
    "# Interesting.. the old h_tests is a list of multiple `H_test``\n",
    "# While the new one is just one. Probably should fix this"
   ]
  },
  {
   "cell_type": "code",
   "execution_count": 30,
   "id": "c53681cd",
   "metadata": {},
   "outputs": [
    {
     "name": "stdout",
     "output_type": "stream",
     "text": [
      "-35.536194\n"
     ]
    }
   ],
   "source": [
    "print(list(H_tests.values())[0][1])"
   ]
  },
  {
   "cell_type": "code",
   "execution_count": null,
   "id": "397a9d82",
   "metadata": {},
   "outputs": [
    {
     "name": "stdout",
     "output_type": "stream",
     "text": [
      "[np.float32(-14.05918), np.float32(-16.063623), np.float32(-27.225498), np.float32(-27.074282), np.float32(-29.824018), np.float32(-29.077448), np.float32(-21.306332), np.float32(-7.98647), np.float32(-19.845425), np.float32(-36.58706), np.float32(-23.714071), np.float32(-27.347599), np.float32(-15.408567), np.float32(-39.29328), np.float32(-34.367554), np.float32(-15.674433), np.float32(-13.576404), np.float32(-13.924305), np.float32(-27.855888), np.float32(-27.466671), np.float32(-10.063692), np.float32(10.366), np.float32(7.9414396), np.float32(-8.582854), np.float32(-14.358074), np.float32(-11.917765), np.float32(108.93928), np.float32(-25.154549), np.float32(-17.763706), np.float32(-26.920866), np.float32(-10.752116), np.float32(-14.913163), np.float32(-24.002193), np.float32(-28.116547), np.float32(-19.937698), np.float32(-33.365116), np.float32(108.93928), np.float32(-25.237362), np.float32(-0.3333728), np.float32(-0.6103534), np.float32(-13.819187), np.float32(-24.624374), np.float32(-14.918788), np.float32(-42.14287), np.float32(-18.926943), np.float32(-1.459931), np.float32(-19.408993), np.float32(0.31409702), np.float32(-17.014093), np.float32(108.939255), np.float32(-31.033245), np.float32(1.0620492), np.float32(-22.026318), np.float32(-18.914442), np.float32(-32.55577), np.float32(-28.496471), np.float32(-27.10955), np.float32(-24.733883), np.float32(-7.9708796), np.float32(-16.640461), np.float32(-16.762566), np.float32(-24.30999), np.float32(5.300327), np.float32(-22.21217), np.float32(-29.44724), np.float32(-14.588691), np.float32(-14.548613), np.float32(-11.529262), np.float32(-21.153002), np.float32(-10.560412), np.float32(-19.632187), np.float32(-19.714762), np.float32(-24.634686), np.float32(-21.272276), np.float32(12.385258), np.float32(-24.998268), np.float32(108.93928), np.float32(108.93928), np.float32(108.93928), np.float32(-30.177578), np.float32(-13.172962), np.float32(-28.729496), np.float32(1.4989551), np.float32(-7.6635203), np.float32(-13.315124), np.float32(108.93928), np.float32(-15.684693), np.float32(-30.82566), np.float32(-40.8485), np.float32(-14.443643), np.float32(-10.865966), np.float32(-7.209598), np.float32(-10.7452135), np.float32(-19.956629), np.float32(-18.017057), np.float32(-21.95855), np.float32(-5.8543096), np.float32(-27.162931), np.float32(-23.194223), np.float32(-17.44099), np.float32(108.93928), np.float32(-9.603225), np.float32(-25.022528), np.float32(-10.08861), np.float32(-26.394222), np.float32(-24.970713), np.float32(-26.533901), np.float32(-7.875777), np.float32(15.952352), np.float32(7.28959), np.float32(-16.275963), np.float32(-25.767277), np.float32(108.93928), np.float32(-42.168755), np.float32(-15.081003), np.float32(108.93928), np.float32(108.93928), np.float32(-13.4098015), np.float32(-7.160529), np.float32(-21.9946), np.float32(-22.806017), np.float32(-10.233399), np.float32(-12.072945), np.float32(-7.189946), np.float32(14.320494), np.float32(-30.869549), np.float32(-20.837423), np.float32(5.0347586), np.float32(-32.32102), np.float32(108.939255), np.float32(-17.784098), np.float32(-26.701149), np.float32(-31.399057), np.float32(-33.92056), np.float32(108.939255), np.float32(-7.024218), np.float32(-40.41312), np.float32(-35.181984), np.float32(-9.91749), np.float32(-21.860819), np.float32(-16.764742), np.float32(-1.7451538), np.float32(-24.077423), np.float32(19.63112), np.float32(-21.952044), np.float32(-22.894281), np.float32(-9.784323), np.float32(-21.203243), np.float32(-16.970304), np.float32(-26.106733), np.float32(-35.7728), np.float32(11.9456835), np.float32(108.93928), np.float32(-21.598564), np.float32(-5.292082), np.float32(-11.79359), np.float32(-15.000687), np.float32(-28.48898), np.float32(108.93928), np.float32(-13.900015), np.float32(-17.091936), np.float32(-12.402032), np.float32(-15.647504), np.float32(-1.459931), np.float32(-15.859416), np.float32(-32.181244), np.float32(108.93928), np.float32(-7.3450246), np.float32(-15.515719), np.float32(-28.475471), np.float32(-12.893066), np.float32(-28.853268), np.float32(-25.28835), np.float32(-26.994438), np.float32(-2.683683), np.float32(-16.407429), np.float32(3.296399), np.float32(-14.553297), np.float32(-15.489141), np.float32(5.8245525), np.float32(-8.541851), np.float32(-24.86345), np.float32(-13.901989), np.float32(-16.267298), np.float32(-1.9501024), np.float32(-22.621283), np.float32(-6.225608), np.float32(-21.611338), np.float32(-22.468939), np.float32(-24.552797), np.float32(-6.84933), np.float32(-24.622526), np.float32(-18.572645), np.float32(-2.2050202), np.float32(-27.775352), np.float32(-20.183683), np.float32(-13.639934), np.float32(-10.8581295), np.float32(-50.55282), np.float32(-23.833109), np.float32(-28.616486), np.float32(-28.61217), np.float32(-21.961752), np.float32(-33.59912), np.float32(-16.49719), np.float32(-35.688065), np.float32(-21.77635), np.float32(-13.787912), np.float32(-21.836695), np.float32(-20.404556), np.float32(-16.315739), np.float32(-24.364464), np.float32(5.2149754), np.float32(3.4104252), np.float32(-32.329662), np.float32(108.93928), np.float32(-4.37354), np.float32(-19.802757), np.float32(4.4236035), np.float32(-25.080282), np.float32(108.93928), np.float32(-15.485593), np.float32(-29.170609), np.float32(-12.05344), np.float32(-31.267773), np.float32(13.919954), np.float32(-14.834977), np.float32(-28.824106), np.float32(-15.185877), np.float32(-7.4533267)]\n"
     ]
    }
   ],
   "source": [
    "# results = {layer: {} for layer in hidden_layers}\n",
    "# rep_readers_means = {}\n",
    "# rep_readers_means['honesty'] = {layer: 0 for layer in hidden_layers}\n",
    "\n",
    "# Layer 0\n",
    "H_test = H_tests[-1]\n",
    "H_test = [H_test[i:i+2] for i in range(0, len(H_test), 2)]\n",
    "\n",
    "print([ H[0] for H in H_test])\n",
    "\n",
    "cors = np.mean([eval_func(lh) == lh[0] for lh in layer_test])\n",
    "\n",
    "print(c)\n",
    "\n",
    "# results[layer] = cors\n",
    "\n",
    "# plt.plot(hidden_layers, [results[layer] for layer in hidden_layers])\n",
    "# plt.show()"
   ]
  },
  {
   "cell_type": "code",
   "execution_count": null,
   "id": "61e88765",
   "metadata": {},
   "outputs": [
    {
     "data": {
      "image/png": "[encoded data removed]",
      "text/plain": [
       "<Figure size 640x480 with 1 Axes>"
      ]
     },
     "metadata": {},
     "output_type": "display_data"
    }
   ],
   "source": [
    "results = {layer: {} for layer in hidden_layers}\n",
    "rep_readers_means = {}\n",
    "rep_readers_means['honesty'] = {layer: 0 for layer in hidden_layers}\n",
    "\n",
    "for layer in hidden_layers:\n",
    "    H_test = H_tests[layer]\n",
    "    rep_readers_means['honesty'][layer] = np.mean(H_test)\n",
    "    H_test = [H_test[i:i+2] for i in range(0, len(H_test), 2)]\n",
    "    \n",
    "    sign = rep_reader.direction_signs[layer]\n",
    "\n",
    "    eval_func = min if sign == -1 else max\n",
    "    # cors = np.mean([eval_func(H) == H[0] for H in H_test])\n",
    "    cors = np.mean([eval_func(H) == H[0] for H in H_test])\n",
    "    \n",
    "    results[layer] = cors\n",
    "\n",
    "plt.plot(hidden_layers, [results[layer] for layer in hidden_layers])\n",
    "plt.show()"
   ]
  },
  {
   "cell_type": "code",
   "execution_count": null,
   "id": "995e6370",
   "metadata": {},
   "outputs": [],
   "source": []
  }
 ],
 "metadata": {
  "kernelspec": {
   "display_name": ".venv",
   "language": "python",
   "name": "python3"
  },
  "language_info": {
   "codemirror_mode": {
    "name": "ipython",
    "version": 3
   },
   "file_extension": ".py",
   "mimetype": "text/x-python",
   "name": "python",
   "nbconvert_exporter": "python",
   "pygments_lexer": "ipython3",
   "version": "3.10.12"
  }
 },
 "nbformat": 4,
 "nbformat_minor": 5
}
