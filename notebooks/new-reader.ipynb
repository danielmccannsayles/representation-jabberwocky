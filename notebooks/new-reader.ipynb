{
 "cells": [
  {
   "cell_type": "markdown",
   "id": "76336a96",
   "metadata": {},
   "source": [
    "### Testing out new Reader\n",
    "\n",
    "Going to take all I've learned & step by step make a reader. This way I will understand the design choices. \n",
    "\n",
    "There's not exactly a ground truth for the reader, so I can do what I want with this. "
   ]
  },
  {
   "cell_type": "code",
   "execution_count": null,
   "id": "aaf29a37",
   "metadata": {
    "vscode": {
     "languageId": "plaintext"
    }
   },
   "outputs": [],
   "source": []
  },
  {
   "cell_type": "code",
   "execution_count": null,
   "id": "4dcf0412",
   "metadata": {
    "vscode": {
     "languageId": "plaintext"
    }
   },
   "outputs": [],
   "source": []
  }
 ],
 "metadata": {
  "language_info": {
   "name": "python"
  }
 },
 "nbformat": 4,
 "nbformat_minor": 5
}
